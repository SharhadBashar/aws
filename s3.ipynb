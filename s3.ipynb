{
 "cells": [
  {
   "cell_type": "code",
   "execution_count": 8,
   "metadata": {},
   "outputs": [],
   "source": [
    "import os\n",
    "import logging\n",
    "from pathlib import Path\n",
    "\n",
    "import boto3\n",
    "from boto3 import client\n",
    "from botocore.exceptions import ClientError"
   ]
  },
  {
   "cell_type": "code",
   "execution_count": 9,
   "metadata": {},
   "outputs": [],
   "source": [
    "class S3:\n",
    "    def __init__(self):\n",
    "        self.s3_client = boto3.client('s3')\n",
    "        \n",
    "    def create_bucket(self, bucket_name, region = None):\n",
    "        try:\n",
    "            if region is None:\n",
    "                s3_client = self.s3_client\n",
    "                s3_client.create_bucket(Bucket=bucket_name)\n",
    "            else:\n",
    "                s3_client = boto3.client('s3', region_name = region)\n",
    "                location = {'LocationConstraint': region}\n",
    "                s3_client.create_bucket(Bucket = bucket_name,\n",
    "                                        CreateBucketConfiguration = location)\n",
    "        except ClientError as e:\n",
    "            logging.error(e)\n",
    "            return False\n",
    "        return True\n",
    "\n",
    "    def get_buckets(self):\n",
    "        buckets = []\n",
    "        response = self.s3_client.list_buckets()\n",
    "        for bucket in response['Buckets']:\n",
    "            buckets.append(bucket[\"Name\"])\n",
    "        return buckets\n",
    "\n",
    "    def get_file_folders(self, bucket_name, prefix = ''):\n",
    "        file_names = []\n",
    "        folders = []\n",
    "\n",
    "        default_kwargs = {\n",
    "            'Bucket': bucket_name,\n",
    "            'Prefix': prefix\n",
    "        }\n",
    "        next_token = ''\n",
    "\n",
    "        while next_token is not None:\n",
    "            updated_kwargs = default_kwargs.copy()\n",
    "            if next_token != '':\n",
    "                updated_kwargs['ContinuationToken'] = next_token\n",
    "\n",
    "            response = self.s3_client.list_objects_v2(**default_kwargs)\n",
    "            contents = response.get('Contents')\n",
    "            if contents is None:\n",
    "                return None, None\n",
    "            for result in contents:\n",
    "                key = result.get('Key')\n",
    "                if key[-1] == '/':\n",
    "                    folders.append(key)\n",
    "                else:\n",
    "                    file_names.append(key)\n",
    "\n",
    "            next_token = response.get('NextContinuationToken')\n",
    "\n",
    "        return file_names, folders\n",
    "\n",
    "    def download_files(self, bucket_name, local_path, file_names, folders):\n",
    "        local_path = Path(local_path)\n",
    "\n",
    "        for folder in folders:\n",
    "            folder_path = Path.joinpath(local_path, folder)\n",
    "            folder_path.mkdir(parents = True, exist_ok = True)\n",
    "\n",
    "        for file_name in file_names:\n",
    "            file_path = Path.joinpath(local_path, file_name)\n",
    "            file_path.parent.mkdir(parents = True, exist_ok = True)\n",
    "            self.s3_client.download_file(\n",
    "                bucket_name,\n",
    "                file_name,\n",
    "                str(file_path)\n",
    "            )\n",
    "\n",
    "    def upload_file(self, file_name, bucket, object_name = None):\n",
    "        if object_name is None:\n",
    "            object_name = os.path.basename(file_name)   \n",
    "        try:\n",
    "            response = self.s3_client.upload_file(file_name, bucket, object_name)\n",
    "        except ClientError as e:\n",
    "            logging.error(e)\n",
    "            return False\n",
    "        return True\n",
    "\n",
    "    def print_buckets(self):\n",
    "        response = self.s3_client.list_buckets()\n",
    "\n",
    "        print('Existing buckets:')\n",
    "        for bucket in response['Buckets']:\n",
    "            print(f'  {bucket[\"Name\"]}')\n",
    "            \n",
    "    def print_files_in_buckets(self, bucket_name):\n",
    "        s3 = boto3.resource('s3')\n",
    "        my_bucket = s3.Bucket(bucket_name)\n",
    "\n",
    "        for object_summary in my_bucket.objects.filter():\n",
    "            print(f'-- {object_summary.key}')\n",
    "        print()"
   ]
  },
  {
   "cell_type": "code",
   "execution_count": 10,
   "metadata": {},
   "outputs": [
    {
     "name": "stdout",
     "output_type": "stream",
     "text": [
      "Existing buckets:\n",
      "  dev-bluebox\n",
      "  tf-poc-aws-state\n",
      "  ts-whisper-data\n",
      "  tsadobe\n",
      "  tsdigiseg\n",
      "  tsivt\n",
      "  tsliveramp\n",
      "  tsppiq\n",
      "  tstruoptik\n",
      "\n"
     ]
    }
   ],
   "source": [
    "s3 = S3()\n",
    "s3.print_buckets()\n",
    "print()\n",
    "# for bucket in get_buckets(s3):\n",
    "#     print('Bucket Name:', bucket)\n",
    "#     print_files_in_buckets(bucket)"
   ]
  },
  {
   "cell_type": "code",
   "execution_count": 12,
   "metadata": {},
   "outputs": [
    {
     "name": "stdout",
     "output_type": "stream",
     "text": [
      "Uploaded 3 files to bucket: ts-whisper-data\n"
     ]
    }
   ],
   "source": [
    "bucket = 'ts-whisper-data'\n",
    "audio_data_path = '../data/audio/'\n",
    "s3 = S3()\n",
    "audio_files = os.listdir(audio_data_path)\n",
    "for audio_file in audio_files:\n",
    "    s3.upload_file(os.path.join(audio_data_path, audio_file), bucket)\n",
    "print('Uploaded {} files to bucket: {}'.format(len(audio_files), bucket))"
   ]
  },
  {
   "cell_type": "code",
   "execution_count": null,
   "metadata": {},
   "outputs": [],
   "source": []
  }
 ],
 "metadata": {
  "kernelspec": {
   "display_name": "Python 3",
   "language": "python",
   "name": "python3"
  },
  "language_info": {
   "codemirror_mode": {
    "name": "ipython",
    "version": 3
   },
   "file_extension": ".py",
   "mimetype": "text/x-python",
   "name": "python",
   "nbconvert_exporter": "python",
   "pygments_lexer": "ipython3",
   "version": "3.11.1"
  },
  "orig_nbformat": 4,
  "vscode": {
   "interpreter": {
    "hash": "aee8b7b246df8f9039afb4144a1f6fd8d2ca17a180786b69acc140d282b71a49"
   }
  }
 },
 "nbformat": 4,
 "nbformat_minor": 2
}
